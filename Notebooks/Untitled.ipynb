{
 "cells": [
  {
   "cell_type": "code",
   "execution_count": 1,
   "metadata": {
    "ExecuteTime": {
     "end_time": "2018-05-27T18:53:33.787343Z",
     "start_time": "2018-05-27T18:53:32.428217Z"
    }
   },
   "outputs": [],
   "source": [
    "import pandas as pd\n",
    "import numpy as np\n",
    "import pickle as pkl\n",
    "import tensorflow as tf"
   ]
  },
  {
   "cell_type": "code",
   "execution_count": 2,
   "metadata": {
    "ExecuteTime": {
     "end_time": "2018-05-27T18:38:09.027419Z",
     "start_time": "2018-05-27T18:38:09.006059Z"
    }
   },
   "outputs": [
    {
     "data": {
      "text/plain": [
       "Int64Index([ 30,  60,  90, 120, 150, 180, 211, 241, 271, 301, 331, 361, 391,\n",
       "            421, 451, 481, 511, 541, 572, 602, 632, 662, 692, 722, 752],\n",
       "           dtype='int64')"
      ]
     },
     "execution_count": 2,
     "metadata": {},
     "output_type": "execute_result"
    }
   ],
   "source": [
    "data = pd.read_csv('./PopcornSmallProphetInputDF.csv')\n",
    "data.ds = pd.DatetimeIndex(data.ds)\n",
    "changepoints = pkl.load(open('changepoints.pkl','rb'),encoding='latin').index\n",
    "changepoints"
   ]
  },
  {
   "cell_type": "markdown",
   "metadata": {
    "ExecuteTime": {
     "end_time": "2018-05-27T16:42:07.919398Z",
     "start_time": "2018-05-27T16:42:07.893961Z"
    },
    "heading_collapsed": true
   },
   "source": [
    "# OMIT\n"
   ]
  },
  {
   "cell_type": "code",
   "execution_count": 3,
   "metadata": {
    "ExecuteTime": {
     "end_time": "2018-05-27T18:38:09.145468Z",
     "start_time": "2018-05-27T18:38:09.029159Z"
    },
    "hidden": true
   },
   "outputs": [
    {
     "data": {
      "text/plain": [
       "26"
      ]
     },
     "execution_count": 3,
     "metadata": {},
     "output_type": "execute_result"
    }
   ],
   "source": [
    "split_data = []\n",
    "split_data.append(data[data.index < changepoints[0]].y.values)\n",
    "for i in range(len(changepoints)-1):\n",
    "    temp = data[(data.index >= changepoints[i]) & (data.index < changepoints[i+1])].y.values\n",
    "    split_data.append(temp)\n",
    "split_data.append(data[data.index > changepoints[-1]].y.values)\n",
    "len(split_data)"
   ]
  },
  {
   "cell_type": "code",
   "execution_count": 4,
   "metadata": {
    "ExecuteTime": {
     "end_time": "2018-05-27T18:38:09.288215Z",
     "start_time": "2018-05-27T18:38:09.147891Z"
    },
    "hidden": true
   },
   "outputs": [
    {
     "name": "stdout",
     "output_type": "stream",
     "text": [
      "667 211\n",
      "6.50279004592 5.35185813348 6.00787310706\n",
      "613 212\n",
      "6.41836493594 5.35658627467 5.88582421294\n",
      "601 241\n",
      "6.39859493454 5.48479693349 5.9257064235\n",
      "672 328\n",
      "6.51025834052 5.79301360838 6.17537304493\n",
      "708 312\n",
      "6.56244409369 5.74300318781 6.15116453572\n",
      "714 290\n",
      "6.57088296234 5.66988092298 6.05270141301\n",
      "753 284\n",
      "6.6240652278 5.64897423816 6.061858176\n",
      "663 242\n",
      "6.49677499019 5.48893772616 6.00485166154\n",
      "670 218\n",
      "6.50727771239 5.38449506279 5.99908713014\n",
      "632 211\n",
      "6.44888939415 5.35185813348 5.93333965407\n",
      "603 242\n",
      "6.40191719673 5.48893772616 5.83954720685\n",
      "794 315\n",
      "6.67708346125 5.75257263883 6.31991027217\n",
      "697 344\n",
      "6.54678541076 5.84064165737 6.17376094104\n",
      "638 274\n",
      "6.45833828334 5.61312810639 6.0461965605\n",
      "674 216\n",
      "6.51323011091 5.37527840768 5.97151616209\n",
      "719 229\n",
      "6.57786135772 5.43372200355 6.00374714285\n",
      "644 209\n",
      "6.4676987261 5.34233425196 5.88050110263\n",
      "639 231\n",
      "6.45990445438 5.44241771052 5.92033362558\n",
      "601 213\n",
      "6.39859493454 5.36129216571 5.9225474384\n",
      "595 157\n",
      "6.38856140555 5.05624580535 5.74602424302\n",
      "668 223\n",
      "6.50428817354 5.40717177146 5.96212403726\n",
      "631 239\n",
      "6.44730586254 5.47646355193 5.97259623098\n",
      "580 179\n",
      "6.36302810354 5.18738580584 5.66045423223\n",
      "519 210\n",
      "6.25190388317 5.34710753072 5.74103868777\n",
      "547 220\n",
      "6.30444880242 5.39362754635 5.95613664298\n",
      "583 76\n",
      "6.36818718635 4.33073334029 5.59007441937\n"
     ]
    }
   ],
   "source": [
    "for i in split_data:\n",
    "    print (np.max(i), np.min(i))\n",
    "    print (np.log(np.max(i)),np.log(np.min(i)), np.mean(np.log(i)))"
   ]
  },
  {
   "cell_type": "code",
   "execution_count": 5,
   "metadata": {
    "ExecuteTime": {
     "end_time": "2018-05-27T18:38:09.395765Z",
     "start_time": "2018-05-27T18:38:09.291041Z"
    },
    "hidden": true
   },
   "outputs": [
    {
     "name": "stdout",
     "output_type": "stream",
     "text": [
      "6.45727446756 5.3890590719\n",
      "6.36918832183 5.45958994651\n",
      "6.24416318809 5.55623455008\n",
      "6.30010619407 5.51342296246\n",
      "6.34716686129 5.47684086113\n",
      "6.38616178689 5.44609121049\n",
      "6.41699718417 5.42153575982\n",
      "6.485241935 5.36626139584\n",
      "6.4756717164 5.37408447051\n",
      "6.36840658587 5.46020607429\n",
      "6.3523076918 5.47276541223\n",
      "6.2353824963 5.56282701701\n",
      "6.32315861524 5.4956395573\n",
      "6.49380229326 5.35924489943\n",
      "6.49074151615 5.36175560379\n",
      "6.49097739839 5.36156248964\n",
      "6.42628073075 5.41408999295\n",
      "6.44428912556 5.39957868187\n",
      "6.62867463593 5.24628413117\n",
      "6.47002512617 5.37868807308\n",
      "6.39930049148 5.43568688172\n",
      "6.53356421988 5.32641342208\n",
      "6.37661056598 5.45376624705\n",
      "6.37563107118 5.45452591473\n",
      "7.09259947822 4.82337533913\n"
     ]
    }
   ],
   "source": [
    "a = np.log(np.max(split_data[0]))\n",
    "b = np.log(np.min(split_data[0]))\n",
    "\n",
    "for i in split_data[1:]:\n",
    "    temp1 = np.power(np.max(i),1/a)\n",
    "    temp2 = np.power(np.min(i),1/b)\n",
    "    temp = (temp1 + temp2)/2\n",
    "    temp = (np.log(i)/np.log(temp))\n",
    "    print (np.max(temp),np.min(temp))"
   ]
  },
  {
   "cell_type": "markdown",
   "metadata": {},
   "source": [
    "# Trying"
   ]
  },
  {
   "cell_type": "code",
   "execution_count": 3,
   "metadata": {
    "ExecuteTime": {
     "end_time": "2018-05-27T18:54:21.134385Z",
     "start_time": "2018-05-27T18:54:21.049062Z"
    }
   },
   "outputs": [
    {
     "name": "stdout",
     "output_type": "stream",
     "text": [
      "<tf.Variable 'Variable_3:0' shape=(300,) dtype=float32_ref>\n",
      "Tensor(\"Relu_1:0\", shape=(?, 10, 300), dtype=float32)\n",
      "Tensor(\"max_pooling1d_1/Squeeze:0\", shape=(?, 10, 300), dtype=float32)\n"
     ]
    }
   ],
   "source": [
    "learning_rate = 0.001\n",
    "training_iters = 100\n",
    "batch_size = 32\n",
    "display_step = 10\n",
    "\n",
    "n_input = 10\n",
    "dropout = 0.5\n",
    "\n",
    "x = tf.placeholder(tf.float32, shape=(None, 10, 4))\n",
    "y = tf.placeholder(tf.float32, shape=(None, 1))\n",
    "\n",
    "filters = 5\n",
    "inputChannels = 4\n",
    "outputChannels = 300\n",
    "\n",
    "W_conv1 = tf.Variable(tf.truncated_normal([filters, inputChannels, outputChannels],stddev=0.1))\n",
    "b_conv1 = tf.Variable(tf.constant(.1,shape=[outputChannels]))\n",
    "\n",
    "print (b_conv1)\n",
    "h_conv1 = tf.nn.conv1d(x, filters=W_conv1, stride= 1, padding='SAME') + b_conv1\n",
    "h_conv1 = tf.nn.relu(h_conv1)\n",
    "print (h_conv1)\n",
    "h_pool1 = tf.layers.max_pooling1d(h_conv1, pool_size=[3], strides= 1, padding='SAME')\n",
    "print (h_pool1)"
   ]
  },
  {
   "cell_type": "code",
   "execution_count": null,
   "metadata": {},
   "outputs": [],
   "source": []
  }
 ],
 "metadata": {
  "kernelspec": {
   "display_name": "Python [default]",
   "language": "python",
   "name": "python3"
  },
  "language_info": {
   "codemirror_mode": {
    "name": "ipython",
    "version": 3
   },
   "file_extension": ".py",
   "mimetype": "text/x-python",
   "name": "python",
   "nbconvert_exporter": "python",
   "pygments_lexer": "ipython3",
   "version": "3.6.1"
  }
 },
 "nbformat": 4,
 "nbformat_minor": 2
}
